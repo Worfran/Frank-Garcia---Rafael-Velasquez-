{
 "cells": [
  {
   "cell_type": "code",
   "execution_count": 2,
   "id": "0204447e",
   "metadata": {},
   "outputs": [],
   "source": [
    "from importlib.resources import path\n",
    "import numpy as np \n",
    "import matplotlib.pyplot as plt"
   ]
  },
  {
   "cell_type": "code",
   "execution_count": 3,
   "id": "25508ea6",
   "metadata": {},
   "outputs": [],
   "source": [
    "def f(t):\n",
    "    return np.exp(-0.1*t)*np.sin(t)"
   ]
  },
  {
   "cell_type": "code",
   "execution_count": 4,
   "id": "89b9405e",
   "metadata": {},
   "outputs": [],
   "source": [
    "def df(t):\n",
    "    return -0.1*np.exp(-0.1*t)*np.sin(t)+np.exp(-0.1*t)*np.cos(t)"
   ]
  },
  {
   "cell_type": "code",
   "execution_count": 10,
   "id": "34281cfe",
   "metadata": {},
   "outputs": [],
   "source": [
    "def diferencial(x, f,h=0.025):\n",
    "    d=(f(x+h)-f(x))/h\n",
    "    \n",
    "    return d\n",
    "    "
   ]
  },
  {
   "cell_type": "code",
   "execution_count": 11,
   "id": "de02799d",
   "metadata": {},
   "outputs": [],
   "source": [
    "l=2*np.pi\n",
    "t=np.linspace(-l,l,100)\n",
    "fv=f(t)"
   ]
  },
  {
   "cell_type": "code",
   "execution_count": 12,
   "id": "55dfc71e",
   "metadata": {},
   "outputs": [],
   "source": [
    "fft=np.fft.fft(fv)\n",
    "\n",
    "N=len(fft)\n",
    "omega=2*np.pi/l\n",
    "\n",
    "w=omega*np.arange(-N/2.,N/2.)\n",
    "\n",
    "w=np.fft.fftshift(w)"
   ]
  },
  {
   "cell_type": "code",
   "execution_count": 13,
   "id": "96a5a823",
   "metadata": {},
   "outputs": [],
   "source": [
    "DFFT=w*fft*(1j)\n",
    "\n",
    "DerivadaF=np.real(np.fft.ifft(DFFT))"
   ]
  },
  {
   "cell_type": "code",
   "execution_count": 17,
   "id": "b3e0505d",
   "metadata": {
    "scrolled": false
   },
   "outputs": [],
   "source": [
    "drf=[]\n",
    "H=100/(4*np.pi)\n",
    "for ti in t:\n",
    "    x=diferencial(ti,f,h=H)\n",
    "    drf.append(x)\n",
    "drf=np.array(drf)"
   ]
  },
  {
   "cell_type": "code",
   "execution_count": 18,
   "id": "b967b113",
   "metadata": {},
   "outputs": [],
   "source": [
    "daf=df(t)"
   ]
  },
  {
   "cell_type": "code",
   "execution_count": 19,
   "id": "bbde458c",
   "metadata": {},
   "outputs": [
    {
     "data": {
      "text/plain": [
       "<matplotlib.legend.Legend at 0x20d4c02fbc8>"
      ]
     },
     "execution_count": 19,
     "metadata": {},
     "output_type": "execute_result"
    },
    {
     "data": {
      "image/png": "[encoded data removed]",
      "text/plain": [
       "<Figure size 432x288 with 1 Axes>"
      ]
     },
     "metadata": {
      "needs_background": "light"
     },
     "output_type": "display_data"
    }
   ],
   "source": [
    "plt.plot(t,DFFT, color=\"red\", label=\"Derivada espectral\")\n",
    "plt.plot(t,drf, color=\"gold\", label=\"Derivada Derecha\")\n",
    "plt.plot(t,daf, color=\"aquamarine\",label=\"Derivada Analitica\")\n",
    "plt.legend()"
   ]
  },
  {
   "cell_type": "code",
   "execution_count": null,
   "id": "dcf9aff1",
   "metadata": {},
   "outputs": [],
   "source": []
  }
 ],
 "metadata": {
  "kernelspec": {
   "display_name": "Python 3 (ipykernel)",
   "language": "python",
   "name": "python3"
  },
  "language_info": {
   "codemirror_mode": {
    "name": "ipython",
    "version": 3
   },
   "file_extension": ".py",
   "mimetype": "text/x-python",
   "name": "python",
   "nbconvert_exporter": "python",
   "pygments_lexer": "ipython3",
   "version": "3.7.7"
  }
 },
 "nbformat": 4,
 "nbformat_minor": 5
}
