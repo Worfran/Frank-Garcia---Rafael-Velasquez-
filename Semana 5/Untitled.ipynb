{
 "cells": [
  {
   "cell_type": "code",
   "execution_count": 1,
   "id": "4eab3173",
   "metadata": {},
   "outputs": [],
   "source": [
    "import numpy as np\n",
    "import matplotlib as mpl\n",
    "import matplotlib.pyplot as plt\n",
    "from mpl_toolkits.mplot3d import axes3d\n",
    "import matplotlib.animation as anim\n",
    "from tqdm import tqdm \n",
    "import time"
   ]
  },
  {
   "cell_type": "code",
   "execution_count": 3,
   "id": "9de740ab",
   "metadata": {},
   "outputs": [],
   "source": [
    "G = 6.67e-11\n",
    "Mt = 5.972e+24\n",
    "Rt = 6.371e+6"
   ]
  },
  {
   "cell_type": "code",
   "execution_count": 4,
   "id": "416ca745",
   "metadata": {},
   "outputs": [
    {
     "name": "stdout",
     "output_type": "stream",
     "text": [
      "1.540362076183686e-06\n"
     ]
    }
   ],
   "source": [
    "G = G*Mt / Rt**3\n",
    "Mt = 1.\n",
    "Rt = 1.\n",
    "print(G)"
   ]
  },
  {
   "cell_type": "code",
   "execution_count": 5,
   "id": "800acabb",
   "metadata": {},
   "outputs": [],
   "source": [
    "def Root(x0):\n",
    "    \n",
    "    v0 = x0[0]\n",
    "    \n",
    "    r0 = np.array([0.,0.,v0*np.cos(alpha),v0*np.sin(alpha)])\n",
    "    \n",
    "    solution = solve_ivp( System, (t[0],t[-1]), r0, t_eval = t, method = 'RK45' )\n",
    "    \n",
    "    y = solution.y[1]\n",
    "    \n",
    "    return [y[-1] - 200.]"
   ]
  },
  {
   "cell_type": "code",
   "execution_count": 6,
   "id": "5369b7d4",
   "metadata": {},
   "outputs": [],
   "source": [
    "def System(t,r0):\n",
    "    \n",
    "    r,theta,vr,vtheta = r0\n",
    "    \n",
    "    ar = - G*Mt/r**2 + r*vtheta**2\n",
    "    at = - 2*vr*vtheta / r\n",
    "    \n",
    "    return np.array([vr,vtheta,ar,at])"
   ]
  },
  {
   "cell_type": "code",
   "execution_count": 9,
   "id": "3f2c2383",
   "metadata": {},
   "outputs": [
    {
     "name": "stdout",
     "output_type": "stream",
     "text": [
      "0.0012411132406769682\n"
     ]
    }
   ],
   "source": [
    "k = 1.\n",
    "v0 = np.sqrt(G*Mt/Rt)*k\n",
    "print(v0)"
   ]
  },
  {
   "cell_type": "code",
   "execution_count": 10,
   "id": "2acd61ef",
   "metadata": {},
   "outputs": [],
   "source": [
    "alpha = np.deg2rad(60)\n",
    "v0_ = np.array([ v0*np.cos(alpha), v0*np.sin(alpha) ])"
   ]
  },
  {
   "cell_type": "code",
   "execution_count": 11,
   "id": "f69c8959",
   "metadata": {},
   "outputs": [],
   "source": [
    "N = 500\n",
    "t = np.linspace(0.,3000.,N+1)\n",
    "#print(t)"
   ]
  },
  {
   "cell_type": "code",
   "execution_count": null,
   "id": "a76da47b",
   "metadata": {},
   "outputs": [],
   "source": [
    "r0 = np.array([Rt,theta0,v0_[0],v0_[1]])\n",
    "solution = solve_ivp( System, (t[0],t[-1]), r0, t_eval = t, method = 'RK45' )"
   ]
  },
  {
   "cell_type": "code",
   "execution_count": null,
   "id": "dbc45701",
   "metadata": {},
   "outputs": [],
   "source": [
    "t = solution.t\n",
    "r = solution.y[0]\n",
    "theta = solution.y[1]"
   ]
  }
 ],
 "metadata": {
  "kernelspec": {
   "display_name": "Python 3 (ipykernel)",
   "language": "python",
   "name": "python3"
  },
  "language_info": {
   "codemirror_mode": {
    "name": "ipython",
    "version": 3
   },
   "file_extension": ".py",
   "mimetype": "text/x-python",
   "name": "python",
   "nbconvert_exporter": "python",
   "pygments_lexer": "ipython3",
   "version": "3.7.7"
  }
 },
 "nbformat": 4,
 "nbformat_minor": 5
}
