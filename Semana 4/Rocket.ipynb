{
 "cells": [
  {
   "cell_type": "code",
   "execution_count": 1,
   "id": "dd1bd717",
   "metadata": {},
   "outputs": [],
   "source": [
    "import numpy as np\n",
    "import matplotlib as mpl\n",
    "import matplotlib.pyplot as plt\n",
    "from mpl_toolkits.mplot3d import axes3d\n",
    "import matplotlib.animation as anim\n",
    "from tqdm import tqdm \n",
    "import time"
   ]
  },
  {
   "cell_type": "code",
   "execution_count": 1,
   "id": "c639268d",
   "metadata": {},
   "outputs": [
    {
     "ename": "SyntaxError",
     "evalue": "unexpected EOF while parsing (Temp/ipykernel_29176/1252164903.py, line 26)",
     "output_type": "error",
     "traceback": [
      "\u001b[1;36m  File \u001b[1;32m\"C:\\Users\\frawo\\AppData\\Local\\Temp/ipykernel_29176/1252164903.py\"\u001b[1;36m, line \u001b[1;32m26\u001b[0m\n\u001b[1;33m    \u001b[0m\n\u001b[1;37m    ^\u001b[0m\n\u001b[1;31mSyntaxError\u001b[0m\u001b[1;31m:\u001b[0m unexpected EOF while parsing\n"
     ]
    }
   ],
   "source": [
    "#Funciones\n",
    "def dr(pr):\n",
    "    return pr\n",
    "\n",
    "def ds(r,ps):\n",
    "    return ps/(pow(r,2))\n",
    "\n",
    "def dpr(r,ps,s,t,R,delta=None,w=None,mu=None):\n",
    "    f1=pow(ps,2)/pow(r,3)\n",
    "    f21=(mu/R)\n",
    "    f22=(r-np.cos(s-w*t))\n",
    "    f23=f21*f22\n",
    "    f24=(1/pow(r,2))\n",
    "    f25=f24+f23\n",
    "    f2=delta*f25\n",
    "    return (f1)-(f2)\n",
    "\n",
    "def dps(r,s,t,R,delta=None,w=None,mu=None):\n",
    "    f11=delta*mu*r\n",
    "    f12=pow(R,3)\n",
    "    f1=f11/f12\n",
    "    f2=np.sin(s-w*t)\n",
    "    return -(f1*f2)\n",
    "\n",
    "def fR(r,s,t,w=None):\n",
    "    f2=pow(r,2)\n",
    "    f3=2*r*np.cos(s-wt)\n",
    "    return np.sqrt(1+f2-f3)\n",
    "    "
   ]
  },
  {
   "cell_type": "code",
   "execution_count": null,
   "id": "5ebe4290",
   "metadata": {},
   "outputs": [],
   "source": []
  },
  {
   "cell_type": "code",
   "execution_count": 13,
   "id": "77a6ae65",
   "metadata": {},
   "outputs": [
    {
     "ename": "IndentationError",
     "evalue": "expected an indented block (Temp/ipykernel_12404/1550896617.py, line 38)",
     "output_type": "error",
     "traceback": [
      "\u001b[1;36m  File \u001b[1;32m\"C:\\Users\\frawo\\AppData\\Local\\Temp/ipykernel_12404/1550896617.py\"\u001b[1;36m, line \u001b[1;32m38\u001b[0m\n\u001b[1;33m    k11 = F1(SRK4[i-1], IRK4[i-1], LRK4[i-1], A, b, delta, u)\u001b[0m\n\u001b[1;37m    ^\u001b[0m\n\u001b[1;31mIndentationError\u001b[0m\u001b[1;31m:\u001b[0m expected an indented block\n"
     ]
    }
   ],
   "source": [
    "#RK4\n",
    "\n",
    "#condiciones iniciales\n",
    "ro=None\n",
    "so=None\n",
    "pro=None\n",
    "pso=None\n",
    "\n",
    "\n",
    "\n",
    "M=np.array([[ro,so,pro,pso]])\n",
    "\n",
    "it=range(0,4)\n",
    "\n",
    "h=None\n",
    "    \n",
    "for i in range(1,len(t)):\n",
    "    m=M[i-1,:]\n",
    "    nd=[]\n",
    "    for f in it:\n",
    "        p=(h/6)\n",
    "        K=0\n",
    "        if f == 0:\n",
    "            k1 = dr(m[2])\n",
    "            k2 = dr(m[2]+0.5*k1*h)\n",
    "            k3 = dr(m[2]+0.5*k2*h)\n",
    "            k4 = dr(m[2]+k4*h)\n",
    "            K=k1+2*k2+2*k3+k4\n",
    "        if f == 1:\n",
    "            k1 = dr(m[2])\n",
    "            k2 = dr(m[2]+0.5*k1*h)\n",
    "            k3 = dr(m[2]+0.5*k2*h)\n",
    "            k4 = dr(m[2]+k4*h)\n",
    "            K=k1+2*k2+2*k3+k4\n",
    "        if f == 2:\n",
    "            k1 = dr(m[2])\n",
    "            k2 = dr(m[2]+0.5*k1*h)\n",
    "            k3 = dr(m[2]+0.5*k2*h)\n",
    "            k4 = dr(m[2]+k4*h)\n",
    "            K=k1+2*k2+2*k3+k4\n",
    "        if f == 3:\n",
    "            k1 = dr(m[2])\n",
    "            k2 = dr(m[2]+0.5*k1*h)\n",
    "            k3 = dr(m[2]+0.5*k2*h)\n",
    "            k4 = dr(m[2]+k4*h)\n",
    "            K=k1+2*k2+2*k3+k4\n",
    "        p=m[f]+p*K\n",
    "        nd.append(p)\n",
    "    M=np.vstack((M,p))\n",
    "            "
   ]
  },
  {
   "cell_type": "code",
   "execution_count": null,
   "id": "a830ef9e",
   "metadata": {},
   "outputs": [],
   "source": []
  }
 ],
 "metadata": {
  "kernelspec": {
   "display_name": "Python 3 (ipykernel)",
   "language": "python",
   "name": "python3"
  },
  "language_info": {
   "codemirror_mode": {
    "name": "ipython",
    "version": 3
   },
   "file_extension": ".py",
   "mimetype": "text/x-python",
   "name": "python",
   "nbconvert_exporter": "python",
   "pygments_lexer": "ipython3",
   "version": "3.7.7"
  }
 },
 "nbformat": 4,
 "nbformat_minor": 5
}
