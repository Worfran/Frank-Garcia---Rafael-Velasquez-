{
 "cells": [
  {
   "cell_type": "code",
   "execution_count": 7,
   "id": "dd1bd717",
   "metadata": {},
   "outputs": [],
   "source": [
    "import numpy as np\n",
    "import matplotlib as mpl\n",
    "import matplotlib.pyplot as plt\n",
    "from mpl_toolkits.mplot3d import axes3d\n",
    "import matplotlib.animation as anim\n",
    "from tqdm import tqdm \n",
    "import time"
   ]
  },
  {
   "cell_type": "code",
   "execution_count": 13,
   "id": "c639268d",
   "metadata": {},
   "outputs": [],
   "source": [
    "#Funciones\n",
    "def dr(pr):\n",
    "    return pr\n",
    "\n",
    "def ds(r,ps):\n",
    "    return ps/(pow(r,2))\n",
    "\n",
    "def dpr(r,s,ps,t,R,delta=7.0147e-12,w=2.6617e-6,mu=0.0123):\n",
    "    f1=pow(ps,2)/pow(r,3)\n",
    "    f21=(mu/R)\n",
    "    f22=(r-np.cos(s-w*t))\n",
    "    f23=f21*f22\n",
    "    f24=(1/pow(r,2))\n",
    "    f25=f24+f23\n",
    "    f2=delta*f25\n",
    "    return (f1)-(f2)\n",
    "\n",
    "def dps(r,s,t,R,delta=7.0147e-12,w=2.6617e-6,mu=0.0123):\n",
    "    f11=delta*mu*r\n",
    "    f12=pow(R,3)\n",
    "    f1=f11/f12\n",
    "    f2=np.sin(s-w*t)\n",
    "    return -(f1*f2)\n",
    "\n",
    "def fR(r,s,t,w=2.6617e-6):\n",
    "    f2=pow(r,2)\n",
    "    f3=2*r*np.cos(s-w*t)\n",
    "    return np.sqrt(1+f2-f3)\n",
    "    "
   ]
  },
  {
   "cell_type": "code",
   "execution_count": null,
   "id": "5ebe4290",
   "metadata": {},
   "outputs": [],
   "source": []
  },
  {
   "cell_type": "code",
   "execution_count": 19,
   "id": "77a6ae65",
   "metadata": {},
   "outputs": [
    {
     "name": "stdout",
     "output_type": "stream",
     "text": [
      "hola\n",
      "hola\n",
      "hola\n",
      "[[ 5.          5.          5.         10.        ]\n",
      " [ 4.14515495  4.92413821  4.84524767 10.        ]\n",
      " [ 3.31676776  4.81264637  4.56134484 10.        ]\n",
      " [ 2.53691915  4.63428319  3.90881252 10.        ]]\n"
     ]
    }
   ],
   "source": [
    "#RK4\n",
    "\n",
    "#condiciones iniciales\n",
    "ro=None\n",
    "so=None\n",
    "pro=None\n",
    "pso=None\n",
    "\n",
    "#tiempo\n",
    "l=None\n",
    "\n",
    "t=np.arange(0,l,0.01)\n",
    "M=np.array([[ro,so,pro,pso]])\n",
    "\n",
    "it=range(0,4)\n",
    "\n",
    "L=len(t)\n",
    "h=(t[0]-t[L-1])/L\n",
    "\n",
    "#F=[dr,ds,dpr,dps]\n",
    "\n",
    "for i in range(1,L):\n",
    "    m=M[i-1,:]\n",
    "    nd=[]\n",
    "    for f in it:\n",
    "        p=(h/6)\n",
    "        K=0\n",
    "        if f == 0:\n",
    "            k1 = dr(m[2])\n",
    "            k2 = dr(m[2]+0.5*k1*h)\n",
    "            k3 = dr(m[2]+0.5*k2*h)\n",
    "            k4 = dr(m[2]+k3*h)\n",
    "            K=k1+2*k2+2*k3+k4\n",
    "            \n",
    "        elif f == 1:\n",
    "            k1 = ds(m[0],m[3])\n",
    "            k2 = ds(m[0]+0.5*k1*h,m[3]+0.5*k1*h)\n",
    "            k3 = ds(m[0]+0.5*k2*h,m[3]+0.5*k2*h)\n",
    "            k4 = ds(m[0]+k3*h,m[3]+k3*h)\n",
    "            K=k1+2*k2+2*k3+k4\n",
    "            \n",
    "        elif f == 2:\n",
    "            R1=fR(m[0],m[1],t[i-1])\n",
    "            k1 = dpr(m[0],m[1],m[3],t[i-1],R1)\n",
    "            \n",
    "            R2=fR(m[0]+(0.5*k1*h),m[1]+(0.5*k1*h),t[i-1]+(0.5*k1*h))\n",
    "            k2 = dpr(m[0]+(0.5*k1*h),m[1]+(0.5*k1*h),m[3]+(0.5*k1*h),t[i-1]+(0.5*k1*h),R2)\n",
    "            \n",
    "            R3=fR(m[0]+(0.5*k2*h),m[1]+(0.5*k2*h),t[i-1]+(0.5*k2*h))\n",
    "            k3 =dpr(m[0]+(0.5*k2*h),m[1]+(0.5*k2*h),m[3]+(0.5*k2*h),t[i-1]+(0.5*k2*h),R3)\n",
    "            \n",
    "            R4=fR(m[0]+(k3*h),m[1]+(k3*h),t[i-1]+(k3*h))\n",
    "            k4 =dpr(m[0]+(k3*h),m[1]+(k3*h),m[3]+(k3*h),t[i-1]+(k3*h),R4)\n",
    "            \n",
    "            \n",
    "            K=k1+2*k2+2*k3+k4\n",
    "            \n",
    "        elif f == 3:\n",
    "\n",
    "            R1=fR(m[0],m[1],t[i-1])\n",
    "            k1 = dps(m[0],m[1],t[i-1],R1)\n",
    "            \n",
    "            R2=fR(m[0]+(0.5*k1*h),m[1]+(0.5*k1*h),t[i-1]+(0.5*k1*h))\n",
    "            k2 = dps(m[0]+(0.5*k1*h),m[1]+(0.5*k1*h),t[i-1]+(0.5*k1*h),R2)\n",
    "            \n",
    "            R3=fR(m[0]+(0.5*k2*h),m[1]+(0.5*k2*h),t[i-1]+(0.5*k2*h))\n",
    "            k3 = dps(m[0]+(0.5*k2*h),m[1]+(0.5*k2*h),t[i-1]+(0.5*k2*h),R3)\n",
    "            \n",
    "            R4=fR(m[0]+(k3*h),m[1]+(k3*h),t[i-1]+(k3*h))\n",
    "            k4 = dps(m[0]+(k3*h),m[1]+(k3*h),t[i-1]+(k3*h),R4)\n",
    "            \n",
    "            K=k1+2*k2+2*k3+k4\n",
    "            \n",
    "        p=m[f]+p*K\n",
    "        nd.append(p)\n",
    "    M=np.vstack((M,nd))\n"
   ]
  },
  {
   "cell_type": "code",
   "execution_count": 22,
   "id": "ebccb47d",
   "metadata": {},
   "outputs": [
    {
     "name": "stdout",
     "output_type": "stream",
     "text": [
      "[ 1.41831093  0.8711888   0.3319737  -0.19794666]\n",
      "[-4.79462137 -4.05257198 -3.3001124  -2.52918483]\n"
     ]
    }
   ],
   "source": [
    "w=2.6617e-6\n",
    "d= 3.844e8\n",
    "\n",
    "r=M[:,0]\n",
    "s=M[:,1]\n",
    "\n",
    "x=np.multiply(r,np.cos(s))\n",
    "y=np.multiply(r,np.sin(s))\n",
    "\n",
    "xl=d*np.cos(w*t)\n",
    "yl=d*np.sin(w*t)\n"
   ]
  },
  {
   "cell_type": "code",
   "execution_count": null,
   "id": "f287349b",
   "metadata": {},
   "outputs": [],
   "source": [
    "plt.plot(x,y, color=\"red\",  label=\"Nave\")\n",
    "plt.plot(xl,yl, color=\"grey\",  label=\"Luna\")"
   ]
  },
  {
   "cell_type": "code",
   "execution_count": null,
   "id": "a830ef9e",
   "metadata": {},
   "outputs": [],
   "source": [
    "fig = plt.figure(figsize=(5,5))\n",
    "ax = fig.add_subplot(1,1,1)\n",
    "\n",
    "\n",
    "def init():\n",
    "    ax.set_xlim(-Limits[0],Limits[0])\n",
    "    ax.set_ylim(-Limits[1],Limits[1])\n",
    "\n",
    "def Update(i):\n",
    "    \n",
    "    plot = ax.clear()\n",
    "    init()\n",
    "    plot = ax.set_title(r'$t=%.2f \\ seconds$' %(redt[i]), fontsize=15)\n",
    "    plot=ax.scatter(x[i],y[i], color=\"red\", marker=\"v\", label=\"Nave\")\n",
    "    plot=ax.scatter(xl[i],yl[i], color=\"grey\", marker=\".\", label=\"Luna\")\n",
    "    plot=ax.scatter(0,0, color=\"blue\", marker=\"o\", label=\"Tierra\")\n",
    "    plot=ax.legend()\n",
    "\n",
    "    return plot\n",
    "\n",
    "Animation = anim.FuncAnimation(fig,Update,frames=len(redt),init_func=init)"
   ]
  }
 ],
 "metadata": {
  "kernelspec": {
   "display_name": "Python 3 (ipykernel)",
   "language": "python",
   "name": "python3"
  },
  "language_info": {
   "codemirror_mode": {
    "name": "ipython",
    "version": 3
   },
   "file_extension": ".py",
   "mimetype": "text/x-python",
   "name": "python",
   "nbconvert_exporter": "python",
   "pygments_lexer": "ipython3",
   "version": "3.7.7"
  }
 },
 "nbformat": 4,
 "nbformat_minor": 5
}
