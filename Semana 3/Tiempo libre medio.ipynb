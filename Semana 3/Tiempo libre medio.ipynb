{
 "cells": [
  {
   "cell_type": "code",
   "execution_count": 6,
   "id": "537e86a2",
   "metadata": {},
   "outputs": [
    {
     "name": "stderr",
     "output_type": "stream",
     "text": [
      "'rm' is not recognized as an internal or external command,\n",
      "operable program or batch file.\n"
     ]
    }
   ],
   "source": [
    "!rm Data/*\n",
    "from importlib.resources import path\n",
    "import numpy as np \n",
    "import matplotlib.pyplot as plt\n",
    "import os.path as path\n",
    "import wget"
   ]
  },
  {
   "cell_type": "code",
   "execution_count": 20,
   "id": "df4ef8a9",
   "metadata": {},
   "outputs": [],
   "source": [
    "url=\"https://raw.githubusercontent.com/asegura4488/Database/main/MetodosComputacionalesReforma/EnergiaPotencialGas2D.txt\"\n",
    "file=\"../Data/Tiempolibre.txt\""
   ]
  },
  {
   "cell_type": "code",
   "execution_count": 21,
   "id": "3cd364e7",
   "metadata": {},
   "outputs": [],
   "source": [
    "def reader(url, file):\n",
    "    if not path.exists(file):\n",
    "        Path_ = wget.download(url, file)\n",
    "    else:\n",
    "        Path_ = file\n",
    "    \n",
    "    df=np.loadtxt(Path_)\n",
    "    return df"
   ]
  },
  {
   "cell_type": "code",
   "execution_count": 22,
   "id": "b12814b4",
   "metadata": {},
   "outputs": [
    {
     "name": "stdout",
     "output_type": "stream",
     "text": [
      "\r",
      "  0% [                                                                            ]      0 / 400000\r",
      "  2% [.                                                                           ]   8192 / 400000\r",
      "  4% [...                                                                         ]  16384 / 400000\r",
      "  6% [....                                                                        ]  24576 / 400000\r",
      "  8% [......                                                                      ]  32768 / 400000\r",
      " 10% [.......                                                                     ]  40960 / 400000\r",
      " 12% [.........                                                                   ]  49152 / 400000\r",
      " 14% [..........                                                                  ]  57344 / 400000\r",
      " 16% [............                                                                ]  65536 / 400000\r",
      " 18% [..............                                                              ]  73728 / 400000\r",
      " 20% [...............                                                             ]  81920 / 400000\r",
      " 22% [.................                                                           ]  90112 / 400000\r",
      " 24% [..................                                                          ]  98304 / 400000\r",
      " 26% [....................                                                        ] 106496 / 400000\r",
      " 28% [.....................                                                       ] 114688 / 400000\r",
      " 30% [.......................                                                     ] 122880 / 400000\r",
      " 32% [........................                                                    ] 131072 / 400000\r",
      " 34% [..........................                                                  ] 139264 / 400000\r",
      " 36% [............................                                                ] 147456 / 400000\r",
      " 38% [.............................                                               ] 155648 / 400000\r",
      " 40% [...............................                                             ] 163840 / 400000\r",
      " 43% [................................                                            ] 172032 / 400000\r",
      " 45% [..................................                                          ] 180224 / 400000\r",
      " 47% [...................................                                         ] 188416 / 400000\r",
      " 49% [.....................................                                       ] 196608 / 400000\r",
      " 51% [......................................                                      ] 204800 / 400000\r",
      " 53% [........................................                                    ] 212992 / 400000\r",
      " 55% [..........................................                                  ] 221184 / 400000\r",
      " 57% [...........................................                                 ] 229376 / 400000\r",
      " 59% [.............................................                               ] 237568 / 400000\r",
      " 61% [..............................................                              ] 245760 / 400000\r",
      " 63% [................................................                            ] 253952 / 400000\r",
      " 65% [.................................................                           ] 262144 / 400000\r",
      " 67% [...................................................                         ] 270336 / 400000\r",
      " 69% [....................................................                        ] 278528 / 400000\r",
      " 71% [......................................................                      ] 286720 / 400000\r",
      " 73% [........................................................                    ] 294912 / 400000\r",
      " 75% [.........................................................                   ] 303104 / 400000\r",
      " 77% [...........................................................                 ] 311296 / 400000\r",
      " 79% [............................................................                ] 319488 / 400000\r",
      " 81% [..............................................................              ] 327680 / 400000\r",
      " 83% [...............................................................             ] 335872 / 400000\r",
      " 86% [.................................................................           ] 344064 / 400000\r",
      " 88% [..................................................................          ] 352256 / 400000\r",
      " 90% [....................................................................        ] 360448 / 400000\r",
      " 92% [......................................................................      ] 368640 / 400000\r",
      " 94% [.......................................................................     ] 376832 / 400000\r",
      " 96% [.........................................................................   ] 385024 / 400000\r",
      " 98% [..........................................................................  ] 393216 / 400000\r",
      "100% [............................................................................] 400000 / 400000"
     ]
    }
   ],
   "source": [
    "df = reader(url, file)"
   ]
  },
  {
   "cell_type": "code",
   "execution_count": null,
   "id": "ee6171c2",
   "metadata": {},
   "outputs": [],
   "source": [
    "plt.plot(df[:,0],df[:,1],label=\"Energia potencial\")\n",
    "plt.xlabel(\"t[s]\")\n",
    "plt.ylabel(\"E[J]\")\n",
    "plt.legend()"
   ]
  },
  {
   "cell_type": "code",
   "execution_count": null,
   "id": "73fce0dc",
   "metadata": {},
   "outputs": [],
   "source": [
    "meanE=np.mean(df[:,1])\n",
    "\n",
    "Energia=df[:,1]-meanE\n",
    "\n",
    "t=df[:,0]\n",
    "\n",
    "plt.plot(t,Energia)"
   ]
  },
  {
   "cell_type": "code",
   "execution_count": null,
   "id": "ea64f639",
   "metadata": {},
   "outputs": [],
   "source": [
    "N= len(Energia)\n",
    "\n",
    "fft=np.fft.fft(Energia)\n",
    "\n",
    "Freq=np.fft.fftfreq(N,1)\n",
    "\n",
    "ffta=np.abs(fft)\n",
    "\n",
    "mask1=Freq<0\n",
    "\n",
    "FFTA=ffta.copy()\n",
    "\n",
    "FFTA[mask1]=0"
   ]
  },
  {
   "cell_type": "code",
   "execution_count": null,
   "id": "7d901d9a",
   "metadata": {},
   "outputs": [],
   "source": [
    "i=np.argmax(FFTA)\n",
    "f0=Freq[i]\n",
    "T=1/f0"
   ]
  },
  {
   "cell_type": "code",
   "execution_count": null,
   "id": "8ca01755",
   "metadata": {},
   "outputs": [],
   "source": [
    "izquierda=np.abs(Freq) > f0\n",
    "\n",
    "derecha=np.abs(Freq) < f0\n",
    "\n",
    "fft[izquierda]=0\n",
    "\n",
    "fft[derecha]=0\n",
    "\n",
    "Ffundamental=np.fft.ifft(fft)"
   ]
  },
  {
   "cell_type": "code",
   "execution_count": null,
   "id": "40e6e341",
   "metadata": {},
   "outputs": [],
   "source": [
    "fig = plt.figure(figsize=(7,5))\n",
    "plt.title(\"Tiempo libre 800 pasos temporales\")\n",
    "plt.plot(t,Energia, label = \"Serie original\")\n",
    "plt.plot(t,np.real(Ffundamental), color = \"red\" , label = \"Fundamental\")\n",
    "\n",
    "plt.xlabel(\"t[s]\")\n",
    "plt.ylabel(\"E[J]\")\n",
    "plt.legend()"
   ]
  },
  {
   "cell_type": "code",
   "execution_count": null,
   "id": "4da8cd57",
   "metadata": {},
   "outputs": [],
   "source": []
  }
 ],
 "metadata": {
  "kernelspec": {
   "display_name": "Python 3 (ipykernel)",
   "language": "python",
   "name": "python3"
  },
  "language_info": {
   "codemirror_mode": {
    "name": "ipython",
    "version": 3
   },
   "file_extension": ".py",
   "mimetype": "text/x-python",
   "name": "python",
   "nbconvert_exporter": "python",
   "pygments_lexer": "ipython3",
   "version": "3.7.7"
  }
 },
 "nbformat": 4,
 "nbformat_minor": 5
}
