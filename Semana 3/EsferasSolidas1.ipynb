{
 "cells": [
  {
   "cell_type": "markdown",
   "id": "d994f1fe",
   "metadata": {},
   "source": [
    "# Colisiones 2D\n",
    "\n",
    "Este programa esta implementado para simular la interacción que se presenta entre particulas solidas contenidas en un espacio finito"
   ]
  },
  {
   "cell_type": "markdown",
   "id": "ad620d83",
   "metadata": {},
   "source": [
    "Importamos las librerias que vamos a utilizar para poder llevar a cabo la animación"
   ]
  },
  {
   "cell_type": "code",
   "execution_count": 144,
   "id": "6c887297",
   "metadata": {},
   "outputs": [],
   "source": [
    "import numpy as np\n",
    "import matplotlib.pyplot as plt\n",
    "import matplotlib as mpl\n",
    "from tqdm import tqdm \n",
    "import matplotlib.animation as anim"
   ]
  },
  {
   "cell_type": "markdown",
   "id": "6c241447",
   "metadata": {},
   "source": [
    "Definimos la clase que se encarga de asignar los atributos y definir los metodos a partir de los cuales se va a resolver el problema de interacción entre las particulas"
   ]
  },
  {
   "cell_type": "code",
   "execution_count": 145,
   "id": "d20a9754",
   "metadata": {},
   "outputs": [],
   "source": [
    "class Particle():\n",
    "    \n",
    "    # init\n",
    "    def __init__(self, r0,v0,a0,t,m,radius,Id):\n",
    "        self.dt  = t[1] - t[0]\n",
    "        self.r = r0\n",
    "        self.v = v0\n",
    "        self.a = a0\n",
    "        \n",
    "        self.rVector = np.zeros( (len(t),len(r0)) )\n",
    "        self.vVector = np.zeros( (len(t),len(v0)) )\n",
    "        self.aVector = np.zeros( (len(t),len(a0)) )\n",
    "        \n",
    "        self.m = m\n",
    "        self.radius = radius\n",
    "        self.Id = Id\n",
    "        \n",
    "    # Method\n",
    "    def Evolution(self,i):\n",
    "        \n",
    "        self.SetPosition(i,self.r)\n",
    "        self.SetVelocity(i,self.v)\n",
    "    \n",
    "        # Euler method\n",
    "        self.r += self.dt * self.v\n",
    "        self.v += self.dt * self.a\n",
    "            \n",
    "    def CheckWallLimits(self,limits,dim=2):\n",
    "        \n",
    "        for i in range(dim):\n",
    "            if self.r[i] - self.radius < - limits[i]:\n",
    "                self.v[i] = - self.v[i]\n",
    "                \n",
    "    def ReduceSizevelocity(self,factor):\n",
    "        \n",
    "        self.RvVector = np.array([self.vVector[0]]) # initial condition\n",
    "        for i in range(1,len(self.vVector)):\n",
    "            if i%factor == 0:\n",
    "                self.RvVector = np.vstack([self.RvVector,self.vVector[i]])\n",
    "        \n",
    "    def ReduceSize(self,factor):\n",
    "        \n",
    "        self.RrVector = np.array([self.rVector[0]]) # initial condition\n",
    "        for i in range(1,len(self.rVector)):\n",
    "            if i%factor == 0:\n",
    "                self.RrVector = np.vstack([self.RrVector,self.rVector[i]])\n",
    "    # Setters\n",
    "    def SetPosition(self,i,r):\n",
    "        self.rVector[i] = r\n",
    "        \n",
    "    def SetVelocity(self,i,v):\n",
    "        self.vVector[i] = v\n",
    "        \n",
    "    # Getters  \n",
    "    def GetPositionVector(self):\n",
    "        return self.rVector\n",
    "\n",
    "    def GetRPositionVector(self):\n",
    "        return self.RrVector\n",
    "    \n",
    "    def GetVelocityVector(self):\n",
    "        return self.vVector\n",
    "    def GetRVelocityVector(self):\n",
    "        return self.RvVector\n",
    "    def GetR(self):\n",
    "        return self.radius"
   ]
  },
  {
   "cell_type": "markdown",
   "id": "7431a83a",
   "metadata": {},
   "source": [
    "Definimos una función que se encarga de generar las particulas que vamos a simular"
   ]
  },
  {
   "cell_type": "code",
   "execution_count": 146,
   "id": "be07bd55",
   "metadata": {},
   "outputs": [],
   "source": [
    "def GetindividualParticle(position, velocity, aceleration, t):\n",
    "\n",
    "    x0 = position\n",
    "    v0 = velocity\n",
    "    a0 = aceleration\n",
    "        \n",
    "    p = Particle(x0,v0,a0,t,1.,1.0,1)\n",
    "        \n",
    "    return p"
   ]
  },
  {
   "cell_type": "code",
   "execution_count": 158,
   "id": "dc366338",
   "metadata": {},
   "outputs": [],
   "source": [
    "#Discretización del tiempo \n",
    "\n",
    "dt = 0.001\n",
    "tmax = 30\n",
    "tiempo = np.arange(0,tmax+dt,dt)"
   ]
  },
  {
   "cell_type": "code",
   "execution_count": 167,
   "id": "8c055599",
   "metadata": {},
   "outputs": [
    {
     "name": "stdout",
     "output_type": "stream",
     "text": [
      "[1. 1.]\n"
     ]
    }
   ],
   "source": [
    "esferas_solidas = []\n",
    "posiciones_iniciales = np.array([[1.,1.], [0.,-1.6], [-15., -15.]])\n",
    "velocidades_iniciales = np.array([[20.,0.], [0.,0.], [0.,0.]])\n",
    "aceleraciones_iniciales = np.array([[0.,0.],[0.,0.],[0.,0.]])\n",
    "\n",
    "for i in range(len(posiciones_iniciales)):\n",
    "    particle = GetindividualParticle(posiciones_iniciales[i], velocidades_iniciales[i], aceleraciones_iniciales[i], tiempo)\n",
    "    esferas_solidas.append(particle)\n",
    "print(esferas_solidas)"
   ]
  },
  {
   "cell_type": "code",
   "execution_count": 160,
   "id": "8e1c6ba0",
   "metadata": {},
   "outputs": [],
   "source": [
    "def RunSimulationP(t,P, Limits):\n",
    "    \n",
    "    for it in tqdm(range(len(t))): # Evolucion temporal\n",
    "        P.CheckWallLimits(Limits)\n",
    "        P.Evolution(it)\n",
    "    return P"
   ]
  },
  {
   "cell_type": "code",
   "execution_count": 161,
   "id": "b6d0dda6",
   "metadata": {},
   "outputs": [],
   "source": [
    "Limits = np.array([20.,20.])"
   ]
  },
  {
   "cell_type": "code",
   "execution_count": 162,
   "id": "2101b0a8",
   "metadata": {},
   "outputs": [
    {
     "name": "stderr",
     "output_type": "stream",
     "text": [
      "100%|████████████████████████████████████████████████████████████████████████████████████████████████████████| 30001/30001 [00:00<00:00, 103716.07it/s]\n"
     ]
    }
   ],
   "source": [
    "p1 = RunSimulationP(tiempo,esferas_solidas[0], Limits)"
   ]
  },
  {
   "cell_type": "code",
   "execution_count": 163,
   "id": "d3537748",
   "metadata": {},
   "outputs": [
    {
     "name": "stdout",
     "output_type": "stream",
     "text": [
      "[[  1.     1.  ]\n",
      " [  1.02   1.  ]\n",
      " [  1.04   1.  ]\n",
      " ...\n",
      " [600.96   1.  ]\n",
      " [600.98   1.  ]\n",
      " [601.     1.  ]]\n"
     ]
    }
   ],
   "source": [
    "print(esferas_solidas[0].GetPositionVector())"
   ]
  },
  {
   "cell_type": "code",
   "execution_count": 164,
   "id": "2233dce9",
   "metadata": {},
   "outputs": [
    {
     "data": {
      "image/png": "[encoded data removed]",
      "text/plain": [
       "<Figure size 360x360 with 1 Axes>"
      ]
     },
     "metadata": {
      "needs_background": "light"
     },
     "output_type": "display_data"
    }
   ],
   "source": [
    "fig = plt.figure(figsize=(5,5))\n",
    "ax = fig.add_subplot(1,1,1)\n",
    "\n",
    "\n",
    "def init():\n",
    "    ax.set_xlim(-Limits[0],Limits[0])\n",
    "    ax.set_ylim(-Limits[1],Limits[1])\n",
    "\n",
    "def Update(i):\n",
    "    \n",
    "    plot = ax.clear()\n",
    "    init()\n",
    "    plot = ax.set_title(r'$t=%.2f \\ seconds$' %(tiempo[i]), fontsize=15)\n",
    "    for particle in esferas_solidas:\n",
    "        print(\"Holi\")\n",
    "        x = particle.GetPositionVector()[i,0]\n",
    "   \n",
    "        y = particle.GetPositionVector()[i,1]\n",
    "        \n",
    "    #vx = P.GetVelocityVector()[i,0]\n",
    "    #vy = P.GetVelocityVector()[i,1]\n",
    "        \n",
    "        circle = plt.Circle((x,y), particle.GetR(), color='k', fill=False )\n",
    "        plot = ax.add_patch(circle)\n",
    "        #plot = ax.arrow(x,y,vx,vy,color='r',head_width=0.5)\n",
    "\n",
    "    return plot\n",
    "\n",
    "Animation = anim.FuncAnimation(fig,Update,frames=len(tiempo),init_func=init)"
   ]
  },
  {
   "cell_type": "code",
   "execution_count": null,
   "id": "272bc723",
   "metadata": {},
   "outputs": [],
   "source": []
  }
 ],
 "metadata": {
  "kernelspec": {
   "display_name": "Python 3 (ipykernel)",
   "language": "python",
   "name": "python3"
  },
  "language_info": {
   "codemirror_mode": {
    "name": "ipython",
    "version": 3
   },
   "file_extension": ".py",
   "mimetype": "text/x-python",
   "name": "python",
   "nbconvert_exporter": "python",
   "pygments_lexer": "ipython3",
   "version": "3.9.6"
  }
 },
 "nbformat": 4,
 "nbformat_minor": 5
}
